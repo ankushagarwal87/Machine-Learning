{
 "cells": [
  {
   "cell_type": "code",
   "execution_count": 1,
   "metadata": {},
   "outputs": [
    {
     "name": "stderr",
     "output_type": "stream",
     "text": [
      "Using TensorFlow backend.\n"
     ]
    }
   ],
   "source": [
    "import pandas,numpy\n",
    "from sklearn import model_selection,preprocessing\n",
    "from keras.preprocessing import text, sequence"
   ]
  },
  {
   "cell_type": "code",
   "execution_count": 2,
   "metadata": {
    "collapsed": true
   },
   "outputs": [],
   "source": [
    "# load the dataset\n",
    "data = open('/home/ankush/Github/Machine Learning/Text Classification/AnalyticsVidya/data/corpus').read()\n",
    "labels, texts = [], []\n",
    "for i, line in enumerate(data.split(\"\\n\")):\n",
    "    content = line.split()\n",
    "    labels.append(content[0])\n",
    "    texts.append(\" \".join(content[1:]))\n",
    "\n",
    "# create a dataframe using texts and lables\n",
    "trainDF = pandas.DataFrame()\n",
    "trainDF['text'] = texts\n",
    "trainDF['label'] = labels"
   ]
  },
  {
   "cell_type": "code",
   "execution_count": 3,
   "metadata": {
    "collapsed": true
   },
   "outputs": [],
   "source": [
    "# split the dataset into training and validation datasets \n",
    "train_x, valid_x, train_y, valid_y = model_selection.train_test_split(trainDF['text'], trainDF['label'],test_size=0.1)\n",
    "\n",
    "# label encode the target variable \n",
    "encoder = preprocessing.LabelEncoder()\n",
    "train_y = encoder.fit_transform(train_y)\n",
    "valid_y = encoder.fit_transform(valid_y)"
   ]
  },
  {
   "cell_type": "code",
   "execution_count": 4,
   "metadata": {
    "collapsed": true
   },
   "outputs": [],
   "source": [
    "# load the pre-trained word-embedding vectors \n",
    "embeddings_index = {}\n",
    "for i, line in enumerate(open('/home/ankush/Github/Machine Learning/Text Classification/AnalyticsVidya/data/wiki-news-300d-1M.vec')):\n",
    "    values = line.split()\n",
    "    embeddings_index[values[0]] = numpy.asarray(values[1:], dtype='float32')\n",
    "\n",
    "# create a tokenizer \n",
    "token = text.Tokenizer()\n",
    "token.fit_on_texts(trainDF['text'])\n",
    "word_index = token.word_index\n",
    "\n",
    "# convert text to sequence of tokens and pad them to ensure equal length vectors \n",
    "train_seq_x = sequence.pad_sequences(token.texts_to_sequences(train_x), maxlen=70)\n",
    "valid_seq_x = sequence.pad_sequences(token.texts_to_sequences(valid_x), maxlen=70)\n",
    "\n",
    "# create token-embedding mapping\n",
    "embedding_matrix = numpy.zeros((len(word_index) + 1, 300))\n",
    "for word, i in word_index.items():\n",
    "    embedding_vector = embeddings_index.get(word)\n",
    "    if embedding_vector is not None:\n",
    "        embedding_matrix[i] = embedding_vector"
   ]
  },
  {
   "cell_type": "code",
   "execution_count": 5,
   "metadata": {},
   "outputs": [
    {
     "name": "stdout",
     "output_type": "stream",
     "text": [
      "_________________________________________________________________\n",
      "Layer (type)                 Output Shape              Param #   \n",
      "=================================================================\n",
      "embedding_1 (Embedding)      (None, 70, 300)           10041000  \n",
      "_________________________________________________________________\n",
      "flatten_1 (Flatten)          (None, 21000)             0         \n",
      "_________________________________________________________________\n",
      "dense_1 (Dense)              (None, 32)                672032    \n",
      "_________________________________________________________________\n",
      "dense_2 (Dense)              (None, 1)                 33        \n",
      "=================================================================\n",
      "Total params: 10,713,065\n",
      "Trainable params: 672,065\n",
      "Non-trainable params: 10,041,000\n",
      "_________________________________________________________________\n"
     ]
    }
   ],
   "source": [
    "from keras.models import Sequential\n",
    "from keras.layers import Embedding, Flatten, Dense, Dropout\n",
    "from keras import regularizers\n",
    "\n",
    "regularizers.l1_l2(l1=0.001, l2=0.001)\n",
    "model = Sequential()\n",
    "model.add(Embedding(len(word_index) + 1, 300, weights=[embedding_matrix], trainable=False,input_length=70))\n",
    "#model.add(Dropout(0.5))\n",
    "model.add(Flatten())\n",
    "#model.add(Dropout(0.5))\n",
    "model.add(Dense(32, activation='relu', kernel_regularizer=regularizers.l2(0.001)))\n",
    "model.add(Dense(1, activation='sigmoid'))\n",
    "model.summary()"
   ]
  },
  {
   "cell_type": "code",
   "execution_count": 6,
   "metadata": {},
   "outputs": [
    {
     "name": "stdout",
     "output_type": "stream",
     "text": [
      "Train on 9000 samples, validate on 1000 samples\n",
      "Epoch 1/10\n",
      "9000/9000 [==============================] - 3s 331us/step - loss: 0.6878 - acc: 0.6378 - val_loss: 0.6109 - val_acc: 0.7390\n",
      "Epoch 2/10\n",
      "9000/9000 [==============================] - 2s 253us/step - loss: 0.5609 - acc: 0.7602 - val_loss: 0.6386 - val_acc: 0.6870\n",
      "Epoch 3/10\n",
      "9000/9000 [==============================] - 2s 240us/step - loss: 0.5032 - acc: 0.8166 - val_loss: 0.6231 - val_acc: 0.6800\n",
      "Epoch 4/10\n",
      "9000/9000 [==============================] - 2s 224us/step - loss: 0.4679 - acc: 0.8364 - val_loss: 0.5594 - val_acc: 0.7810\n",
      "Epoch 5/10\n",
      "9000/9000 [==============================] - 2s 242us/step - loss: 0.4396 - acc: 0.8597 - val_loss: 0.6305 - val_acc: 0.7090\n",
      "Epoch 6/10\n",
      "9000/9000 [==============================] - 2s 241us/step - loss: 0.4172 - acc: 0.8761 - val_loss: 0.7672 - val_acc: 0.6290\n",
      "Epoch 7/10\n",
      "9000/9000 [==============================] - 2s 244us/step - loss: 0.4055 - acc: 0.8860 - val_loss: 0.5715 - val_acc: 0.7760\n",
      "Epoch 8/10\n",
      "9000/9000 [==============================] - 2s 250us/step - loss: 0.3943 - acc: 0.8892 - val_loss: 0.6739 - val_acc: 0.6990\n",
      "Epoch 9/10\n",
      "9000/9000 [==============================] - 2s 240us/step - loss: 0.3813 - acc: 0.9012 - val_loss: 0.6639 - val_acc: 0.7120\n",
      "Epoch 10/10\n",
      "9000/9000 [==============================] - 2s 229us/step - loss: 0.3718 - acc: 0.9066 - val_loss: 0.6025 - val_acc: 0.7670\n"
     ]
    }
   ],
   "source": [
    "model.compile(optimizer='rmsprop',\n",
    "              loss='binary_crossentropy',\n",
    "               metrics=['acc'])\n",
    "history = model.fit(train_seq_x, train_y,\n",
    "                    epochs=10,\n",
    "                    batch_size=256,\n",
    "                    validation_data=(valid_seq_x, valid_y))"
   ]
  },
  {
   "cell_type": "code",
   "execution_count": 28,
   "metadata": {},
   "outputs": [
    {
     "name": "stdout",
     "output_type": "stream",
     "text": [
      "_________________________________________________________________\n",
      "Layer (type)                 Output Shape              Param #   \n",
      "=================================================================\n",
      "embedding_4 (Embedding)      (None, 70, 300)           10041000  \n",
      "_________________________________________________________________\n",
      "global_average_pooling1d_3 ( (None, 300)               0         \n",
      "_________________________________________________________________\n",
      "dense_9 (Dense)              (None, 300)               90300     \n",
      "_________________________________________________________________\n",
      "dense_10 (Dense)             (None, 30)                9030      \n",
      "_________________________________________________________________\n",
      "dense_11 (Dense)             (None, 1)                 31        \n",
      "=================================================================\n",
      "Total params: 10,140,361\n",
      "Trainable params: 99,361\n",
      "Non-trainable params: 10,041,000\n",
      "_________________________________________________________________\n"
     ]
    }
   ],
   "source": [
    "from keras.models import Sequential\n",
    "from keras.layers import Embedding, Flatten, Dense, Dropout, GlobalAveragePooling1D\n",
    "from keras import layers\n",
    "\n",
    "model = Sequential()\n",
    "model.add(layers.Embedding(len(word_index) + 1, 300, weights=[embedding_matrix], trainable=False,input_length=70))\n",
    "model.add(layers.GlobalAveragePooling1D())\n",
    "#model.add(Flatten())\n",
    "model.add(layers.Dense(300, activation='relu'))\n",
    "model.add(layers.Dense(30, activation='relu'))\n",
    "model.add(layers.Dense(1, activation='sigmoid'))\n",
    "\n",
    "model.summary()"
   ]
  },
  {
   "cell_type": "code",
   "execution_count": 29,
   "metadata": {},
   "outputs": [
    {
     "name": "stdout",
     "output_type": "stream",
     "text": [
      "Train on 9000 samples, validate on 1000 samples\n",
      "Epoch 1/50\n",
      "9000/9000 [==============================] - 2s 277us/step - loss: 0.5546 - acc: 0.7327 - val_loss: 0.4472 - val_acc: 0.8000\n",
      "Epoch 2/50\n",
      "9000/9000 [==============================] - 2s 205us/step - loss: 0.4173 - acc: 0.8128 - val_loss: 0.4312 - val_acc: 0.7980\n",
      "Epoch 3/50\n",
      "9000/9000 [==============================] - 2s 208us/step - loss: 0.3989 - acc: 0.8213 - val_loss: 0.4372 - val_acc: 0.8150\n",
      "Epoch 4/50\n",
      "9000/9000 [==============================] - 2s 213us/step - loss: 0.3969 - acc: 0.8232 - val_loss: 0.4325 - val_acc: 0.7980\n",
      "Epoch 5/50\n",
      "9000/9000 [==============================] - 2s 216us/step - loss: 0.3900 - acc: 0.8242 - val_loss: 0.4224 - val_acc: 0.8200\n",
      "Epoch 6/50\n",
      "9000/9000 [==============================] - 2s 215us/step - loss: 0.3853 - acc: 0.8310 - val_loss: 0.4450 - val_acc: 0.8210\n",
      "Epoch 7/50\n",
      "9000/9000 [==============================] - 2s 217us/step - loss: 0.3831 - acc: 0.8348 - val_loss: 0.4118 - val_acc: 0.8240\n",
      "Epoch 8/50\n",
      "9000/9000 [==============================] - 2s 214us/step - loss: 0.3760 - acc: 0.8322 - val_loss: 0.4084 - val_acc: 0.8260\n",
      "Epoch 9/50\n",
      "9000/9000 [==============================] - 2s 213us/step - loss: 0.3740 - acc: 0.8309 - val_loss: 0.4116 - val_acc: 0.8200\n",
      "Epoch 10/50\n",
      "9000/9000 [==============================] - 2s 216us/step - loss: 0.3653 - acc: 0.8367 - val_loss: 0.4096 - val_acc: 0.8230\n",
      "Epoch 11/50\n",
      "9000/9000 [==============================] - 2s 219us/step - loss: 0.3637 - acc: 0.8369 - val_loss: 0.4158 - val_acc: 0.8050\n",
      "Epoch 12/50\n",
      "9000/9000 [==============================] - 2s 214us/step - loss: 0.3577 - acc: 0.8391 - val_loss: 0.4103 - val_acc: 0.8250\n",
      "Epoch 13/50\n",
      "9000/9000 [==============================] - 2s 219us/step - loss: 0.3500 - acc: 0.8433 - val_loss: 0.4085 - val_acc: 0.8220\n",
      "Epoch 14/50\n",
      "9000/9000 [==============================] - 2s 210us/step - loss: 0.3460 - acc: 0.8449 - val_loss: 0.4077 - val_acc: 0.8260\n",
      "Epoch 15/50\n",
      "9000/9000 [==============================] - 2s 183us/step - loss: 0.3423 - acc: 0.8482 - val_loss: 0.4006 - val_acc: 0.8270\n",
      "Epoch 16/50\n",
      "9000/9000 [==============================] - 3s 282us/step - loss: 0.3359 - acc: 0.8487 - val_loss: 0.3954 - val_acc: 0.8340\n",
      "Epoch 17/50\n",
      "9000/9000 [==============================] - 2s 253us/step - loss: 0.3305 - acc: 0.8538 - val_loss: 0.4281 - val_acc: 0.8060\n",
      "Epoch 18/50\n",
      "9000/9000 [==============================] - 2s 250us/step - loss: 0.3241 - acc: 0.8553 - val_loss: 0.4047 - val_acc: 0.8270\n",
      "Epoch 19/50\n",
      "9000/9000 [==============================] - 2s 246us/step - loss: 0.3144 - acc: 0.8621 - val_loss: 0.4102 - val_acc: 0.8310\n",
      "Epoch 20/50\n",
      "9000/9000 [==============================] - 2s 248us/step - loss: 0.3122 - acc: 0.8617 - val_loss: 0.4122 - val_acc: 0.8180\n",
      "Epoch 21/50\n",
      "9000/9000 [==============================] - 2s 224us/step - loss: 0.3058 - acc: 0.8671 - val_loss: 0.4115 - val_acc: 0.8310\n",
      "Epoch 22/50\n",
      "9000/9000 [==============================] - 2s 189us/step - loss: 0.2976 - acc: 0.8692 - val_loss: 0.4118 - val_acc: 0.8250\n",
      "Epoch 23/50\n",
      "9000/9000 [==============================] - 2s 177us/step - loss: 0.2895 - acc: 0.8721 - val_loss: 0.4123 - val_acc: 0.8280\n",
      "Epoch 24/50\n",
      "9000/9000 [==============================] - 2s 176us/step - loss: 0.2820 - acc: 0.8777 - val_loss: 0.4430 - val_acc: 0.8220\n",
      "Epoch 25/50\n",
      "9000/9000 [==============================] - 2s 177us/step - loss: 0.2781 - acc: 0.8821 - val_loss: 0.4315 - val_acc: 0.8270\n",
      "Epoch 26/50\n",
      "9000/9000 [==============================] - 2s 180us/step - loss: 0.2687 - acc: 0.8879 - val_loss: 0.4554 - val_acc: 0.8100\n",
      "Epoch 27/50\n",
      "9000/9000 [==============================] - 2s 182us/step - loss: 0.2622 - acc: 0.8893 - val_loss: 0.4724 - val_acc: 0.7850\n",
      "Epoch 28/50\n",
      "9000/9000 [==============================] - 2s 175us/step - loss: 0.2548 - acc: 0.8963 - val_loss: 0.4484 - val_acc: 0.8230\n",
      "Epoch 29/50\n",
      "9000/9000 [==============================] - 2s 175us/step - loss: 0.2461 - acc: 0.8933 - val_loss: 0.4407 - val_acc: 0.8250\n",
      "Epoch 30/50\n",
      "9000/9000 [==============================] - 2s 207us/step - loss: 0.2387 - acc: 0.9003 - val_loss: 0.4764 - val_acc: 0.8220\n",
      "Epoch 31/50\n",
      "9000/9000 [==============================] - 2s 236us/step - loss: 0.2286 - acc: 0.9057 - val_loss: 0.4759 - val_acc: 0.7980\n",
      "Epoch 32/50\n",
      "9000/9000 [==============================] - 2s 174us/step - loss: 0.2257 - acc: 0.9054 - val_loss: 0.4675 - val_acc: 0.8170\n",
      "Epoch 33/50\n",
      "9000/9000 [==============================] - 2s 181us/step - loss: 0.2164 - acc: 0.9112 - val_loss: 0.4946 - val_acc: 0.8150\n",
      "Epoch 34/50\n",
      "9000/9000 [==============================] - 3s 343us/step - loss: 0.2095 - acc: 0.9142 - val_loss: 0.4968 - val_acc: 0.8230\n",
      "Epoch 35/50\n",
      "9000/9000 [==============================] - 3s 340us/step - loss: 0.1925 - acc: 0.9238 - val_loss: 0.5020 - val_acc: 0.8060\n",
      "Epoch 36/50\n",
      "9000/9000 [==============================] - 2s 256us/step - loss: 0.1891 - acc: 0.9244 - val_loss: 0.5178 - val_acc: 0.8060\n",
      "Epoch 37/50\n",
      "9000/9000 [==============================] - 2s 248us/step - loss: 0.1839 - acc: 0.9287 - val_loss: 0.5153 - val_acc: 0.8100\n",
      "Epoch 38/50\n",
      "9000/9000 [==============================] - 2s 215us/step - loss: 0.1676 - acc: 0.9334 - val_loss: 0.5315 - val_acc: 0.8170\n",
      "Epoch 39/50\n",
      "9000/9000 [==============================] - 2s 238us/step - loss: 0.1635 - acc: 0.9394 - val_loss: 0.5473 - val_acc: 0.8150\n",
      "Epoch 40/50\n",
      "9000/9000 [==============================] - 2s 182us/step - loss: 0.1522 - acc: 0.9417 - val_loss: 0.5677 - val_acc: 0.8140\n",
      "Epoch 41/50\n",
      "9000/9000 [==============================] - 2s 174us/step - loss: 0.1399 - acc: 0.9507 - val_loss: 0.5862 - val_acc: 0.8080\n",
      "Epoch 42/50\n",
      "9000/9000 [==============================] - 2s 180us/step - loss: 0.1349 - acc: 0.9520 - val_loss: 0.6341 - val_acc: 0.8010\n",
      "Epoch 43/50\n",
      "9000/9000 [==============================] - 2s 179us/step - loss: 0.1276 - acc: 0.9541 - val_loss: 0.6381 - val_acc: 0.8160\n",
      "Epoch 44/50\n",
      "9000/9000 [==============================] - 2s 174us/step - loss: 0.1103 - acc: 0.9641 - val_loss: 0.6586 - val_acc: 0.8160\n",
      "Epoch 45/50\n",
      "9000/9000 [==============================] - 2s 175us/step - loss: 0.1023 - acc: 0.9666 - val_loss: 0.6426 - val_acc: 0.8170\n",
      "Epoch 46/50\n",
      "9000/9000 [==============================] - 2s 174us/step - loss: 0.0969 - acc: 0.9682 - val_loss: 0.6915 - val_acc: 0.8060\n",
      "Epoch 47/50\n",
      "9000/9000 [==============================] - 2s 178us/step - loss: 0.0887 - acc: 0.9708 - val_loss: 0.6901 - val_acc: 0.7960\n",
      "Epoch 48/50\n",
      "9000/9000 [==============================] - 2s 176us/step - loss: 0.0791 - acc: 0.9763 - val_loss: 0.7364 - val_acc: 0.7990\n",
      "Epoch 49/50\n",
      "9000/9000 [==============================] - 2s 171us/step - loss: 0.0718 - acc: 0.9771 - val_loss: 0.7422 - val_acc: 0.8140\n",
      "Epoch 50/50\n",
      "9000/9000 [==============================] - 2s 171us/step - loss: 0.0598 - acc: 0.9837 - val_loss: 0.8001 - val_acc: 0.8030\n"
     ]
    }
   ],
   "source": [
    "model.compile(optimizer='adam',\n",
    "              loss='binary_crossentropy',\n",
    "              metrics=['acc'])\n",
    "\n",
    "history = model.fit(train_seq_x, train_y,\n",
    "                    epochs=10,\n",
    "                    batch_size=32,\n",
    "                    validation_data=(valid_seq_x, valid_y))"
   ]
  },
  {
   "cell_type": "code",
   "execution_count": 21,
   "metadata": {},
   "outputs": [
    {
     "data": {
      "image/png": "[encoded data removed]",
      "text/plain": [
       "<matplotlib.figure.Figure at 0x7f00568602e8>"
      ]
     },
     "metadata": {},
     "output_type": "display_data"
    },
    {
     "data": {
      "image/png": "[encoded data removed]",
      "text/plain": [
       "<matplotlib.figure.Figure at 0x7f004c618b38>"
      ]
     },
     "metadata": {},
     "output_type": "display_data"
    }
   ],
   "source": [
    "import matplotlib.pyplot as plt\n",
    "\n",
    "acc = history.history['acc']\n",
    "val_acc = history.history['val_acc']\n",
    "loss = history.history['loss']\n",
    "val_loss = history.history['val_loss']\n",
    "\n",
    "epochs = range(1, len(acc) + 1)\n",
    "\n",
    "plt.plot(epochs, acc, 'bo', label='Training acc')\n",
    "plt.plot(epochs, val_acc, 'b', label='Validation acc')\n",
    "plt.title('Training and validation accuracy')\n",
    "plt.legend()\n",
    "\n",
    "plt.figure()\n",
    "\n",
    "plt.plot(epochs, loss, 'bo', label='Training loss')\n",
    "plt.plot(epochs, val_loss, 'b', label='Validation loss')\n",
    "plt.title('Training and validation loss')\n",
    "plt.legend()\n",
    "\n",
    "plt.show()"
   ]
  },
  {
   "cell_type": "code",
   "execution_count": 19,
   "metadata": {},
   "outputs": [
    {
     "name": "stdout",
     "output_type": "stream",
     "text": [
      "_________________________________________________________________\n",
      "Layer (type)                 Output Shape              Param #   \n",
      "=================================================================\n",
      "embedding_3 (Embedding)      (None, 70, 300)           10041000  \n",
      "_________________________________________________________________\n",
      "global_average_pooling1d_2 ( (None, 300)               0         \n",
      "_________________________________________________________________\n",
      "dense_6 (Dense)              (None, 300)               90300     \n",
      "_________________________________________________________________\n",
      "dense_7 (Dense)              (None, 30)                9030      \n",
      "_________________________________________________________________\n",
      "dense_8 (Dense)              (None, 1)                 31        \n",
      "=================================================================\n",
      "Total params: 10,140,361\n",
      "Trainable params: 99,361\n",
      "Non-trainable params: 10,041,000\n",
      "_________________________________________________________________\n"
     ]
    }
   ],
   "source": [
    "from keras.models import Sequential\n",
    "from keras.layers import Embedding, Flatten, Dense, Dropout, GlobalAveragePooling1D\n",
    "from keras import layers\n",
    "from keras import regularizers\n",
    "\n",
    "regularizers.l1_l2(l1=0.001, l2=0.001)\n",
    "model = Sequential()\n",
    "model.add(layers.Embedding(len(word_index) + 1, 300, weights=[embedding_matrix], trainable=False,input_length=70))\n",
    "model.add(layers.GlobalAveragePooling1D())\n",
    "#model.add(Flatten())\n",
    "model.add(layers.Dense(300, activation='relu', kernel_regularizer=regularizers.l2(0.001)))\n",
    "model.add(layers.Dense(30, activation='relu', kernel_regularizer=regularizers.l2(0.001)))\n",
    "model.add(layers.Dense(1, activation='sigmoid'))\n",
    "\n",
    "model.summary()"
   ]
  },
  {
   "cell_type": "code",
   "execution_count": 26,
   "metadata": {
    "collapsed": true
   },
   "outputs": [],
   "source": [
    "model.compile(optimizer='adam',\n",
    "              loss='binary_crossentropy',\n",
    "              metrics=['acc'])"
   ]
  },
  {
   "cell_type": "code",
   "execution_count": 27,
   "metadata": {},
   "outputs": [
    {
     "name": "stdout",
     "output_type": "stream",
     "text": [
      "Train on 9000 samples, validate on 1000 samples\n",
      "Epoch 1/50\n",
      "9000/9000 [==============================] - 1s 124us/step - loss: 0.4299 - acc: 0.8282 - val_loss: 0.4605 - val_acc: 0.8200\n",
      "Epoch 2/50\n",
      "9000/9000 [==============================] - 1s 85us/step - loss: 0.4189 - acc: 0.8363 - val_loss: 0.4568 - val_acc: 0.8170\n",
      "Epoch 3/50\n",
      "9000/9000 [==============================] - 1s 72us/step - loss: 0.4178 - acc: 0.8341 - val_loss: 0.4557 - val_acc: 0.8240\n",
      "Epoch 4/50\n",
      "9000/9000 [==============================] - 1s 69us/step - loss: 0.4164 - acc: 0.8359 - val_loss: 0.4547 - val_acc: 0.8220\n",
      "Epoch 5/50\n",
      "9000/9000 [==============================] - 1s 71us/step - loss: 0.4170 - acc: 0.8348 - val_loss: 0.4538 - val_acc: 0.8230\n",
      "Epoch 6/50\n",
      "9000/9000 [==============================] - 1s 70us/step - loss: 0.4173 - acc: 0.8338 - val_loss: 0.4562 - val_acc: 0.8120\n",
      "Epoch 7/50\n",
      "9000/9000 [==============================] - 1s 72us/step - loss: 0.4145 - acc: 0.8379 - val_loss: 0.4567 - val_acc: 0.8210\n",
      "Epoch 8/50\n",
      "9000/9000 [==============================] - 1s 71us/step - loss: 0.4171 - acc: 0.8373 - val_loss: 0.4561 - val_acc: 0.8240\n",
      "Epoch 9/50\n",
      "9000/9000 [==============================] - 1s 78us/step - loss: 0.4165 - acc: 0.8372 - val_loss: 0.4553 - val_acc: 0.8250\n",
      "Epoch 10/50\n",
      "9000/9000 [==============================] - 1s 93us/step - loss: 0.4151 - acc: 0.8383 - val_loss: 0.4563 - val_acc: 0.8110\n",
      "Epoch 11/50\n",
      "9000/9000 [==============================] - 1s 83us/step - loss: 0.4138 - acc: 0.8372 - val_loss: 0.4577 - val_acc: 0.8100\n",
      "Epoch 12/50\n",
      "9000/9000 [==============================] - 1s 72us/step - loss: 0.4131 - acc: 0.8388 - val_loss: 0.4529 - val_acc: 0.8250\n",
      "Epoch 13/50\n",
      "9000/9000 [==============================] - 1s 110us/step - loss: 0.4119 - acc: 0.8370 - val_loss: 0.4583 - val_acc: 0.8120\n",
      "Epoch 14/50\n",
      "9000/9000 [==============================] - 1s 75us/step - loss: 0.4135 - acc: 0.8359 - val_loss: 0.4521 - val_acc: 0.8250\n",
      "Epoch 15/50\n",
      "9000/9000 [==============================] - 1s 74us/step - loss: 0.4114 - acc: 0.8370 - val_loss: 0.4552 - val_acc: 0.8250\n",
      "Epoch 16/50\n",
      "9000/9000 [==============================] - 1s 88us/step - loss: 0.4137 - acc: 0.8392 - val_loss: 0.4510 - val_acc: 0.8280\n",
      "Epoch 17/50\n",
      "9000/9000 [==============================] - 1s 82us/step - loss: 0.4108 - acc: 0.8396 - val_loss: 0.4643 - val_acc: 0.8100\n",
      "Epoch 18/50\n",
      "9000/9000 [==============================] - 1s 82us/step - loss: 0.4131 - acc: 0.8366 - val_loss: 0.4620 - val_acc: 0.8080\n",
      "Epoch 19/50\n",
      "9000/9000 [==============================] - 1s 76us/step - loss: 0.4126 - acc: 0.8370 - val_loss: 0.4533 - val_acc: 0.8130\n",
      "Epoch 20/50\n",
      "9000/9000 [==============================] - 1s 79us/step - loss: 0.4094 - acc: 0.8401 - val_loss: 0.4495 - val_acc: 0.8260\n",
      "Epoch 21/50\n",
      "9000/9000 [==============================] - 1s 78us/step - loss: 0.4105 - acc: 0.8390 - val_loss: 0.4516 - val_acc: 0.8250\n",
      "Epoch 22/50\n",
      "9000/9000 [==============================] - 1s 82us/step - loss: 0.4142 - acc: 0.8368 - val_loss: 0.4563 - val_acc: 0.8220\n",
      "Epoch 23/50\n",
      "9000/9000 [==============================] - 1s 78us/step - loss: 0.4113 - acc: 0.8393 - val_loss: 0.4523 - val_acc: 0.8220\n",
      "Epoch 24/50\n",
      "9000/9000 [==============================] - 1s 75us/step - loss: 0.4094 - acc: 0.8388 - val_loss: 0.4505 - val_acc: 0.8290\n",
      "Epoch 25/50\n",
      "9000/9000 [==============================] - 1s 74us/step - loss: 0.4088 - acc: 0.8401 - val_loss: 0.4522 - val_acc: 0.8260\n",
      "Epoch 26/50\n",
      "9000/9000 [==============================] - 1s 83us/step - loss: 0.4147 - acc: 0.8332 - val_loss: 0.4564 - val_acc: 0.8200\n",
      "Epoch 27/50\n",
      "9000/9000 [==============================] - 1s 78us/step - loss: 0.4142 - acc: 0.8364 - val_loss: 0.4518 - val_acc: 0.8210\n",
      "Epoch 28/50\n",
      "9000/9000 [==============================] - 1s 75us/step - loss: 0.4092 - acc: 0.8390 - val_loss: 0.4505 - val_acc: 0.8270\n",
      "Epoch 29/50\n",
      "9000/9000 [==============================] - 1s 74us/step - loss: 0.4073 - acc: 0.8402 - val_loss: 0.4495 - val_acc: 0.8240\n",
      "Epoch 30/50\n",
      "9000/9000 [==============================] - 1s 72us/step - loss: 0.4102 - acc: 0.8399 - val_loss: 0.4504 - val_acc: 0.8230\n",
      "Epoch 31/50\n",
      "9000/9000 [==============================] - 1s 72us/step - loss: 0.4080 - acc: 0.8380 - val_loss: 0.4490 - val_acc: 0.8220\n",
      "Epoch 32/50\n",
      "9000/9000 [==============================] - 1s 73us/step - loss: 0.4056 - acc: 0.8399 - val_loss: 0.4503 - val_acc: 0.8230\n",
      "Epoch 33/50\n",
      "9000/9000 [==============================] - 1s 73us/step - loss: 0.4064 - acc: 0.8407 - val_loss: 0.4558 - val_acc: 0.8130\n",
      "Epoch 34/50\n",
      "9000/9000 [==============================] - 1s 76us/step - loss: 0.4054 - acc: 0.8416 - val_loss: 0.4498 - val_acc: 0.8270\n",
      "Epoch 35/50\n",
      "9000/9000 [==============================] - 1s 74us/step - loss: 0.4058 - acc: 0.8393 - val_loss: 0.4501 - val_acc: 0.8230\n",
      "Epoch 36/50\n",
      "9000/9000 [==============================] - 1s 81us/step - loss: 0.4047 - acc: 0.8403 - val_loss: 0.4506 - val_acc: 0.8230\n",
      "Epoch 37/50\n",
      "9000/9000 [==============================] - 1s 93us/step - loss: 0.4059 - acc: 0.8401 - val_loss: 0.4494 - val_acc: 0.8240\n",
      "Epoch 38/50\n",
      "9000/9000 [==============================] - 1s 75us/step - loss: 0.4058 - acc: 0.8414 - val_loss: 0.4501 - val_acc: 0.8180\n",
      "Epoch 39/50\n",
      "9000/9000 [==============================] - 1s 72us/step - loss: 0.4050 - acc: 0.8418 - val_loss: 0.4548 - val_acc: 0.8200\n",
      "Epoch 40/50\n",
      "9000/9000 [==============================] - 1s 76us/step - loss: 0.4042 - acc: 0.8430 - val_loss: 0.4489 - val_acc: 0.8250\n",
      "Epoch 41/50\n",
      "9000/9000 [==============================] - 1s 77us/step - loss: 0.4028 - acc: 0.8439 - val_loss: 0.4501 - val_acc: 0.8250\n",
      "Epoch 42/50\n",
      "9000/9000 [==============================] - 1s 79us/step - loss: 0.4060 - acc: 0.8404 - val_loss: 0.4489 - val_acc: 0.8240\n",
      "Epoch 43/50\n",
      "9000/9000 [==============================] - 1s 72us/step - loss: 0.4030 - acc: 0.8407 - val_loss: 0.4501 - val_acc: 0.8200\n",
      "Epoch 44/50\n",
      "9000/9000 [==============================] - 1s 75us/step - loss: 0.4018 - acc: 0.8450 - val_loss: 0.4494 - val_acc: 0.8270\n",
      "Epoch 45/50\n",
      "9000/9000 [==============================] - 1s 73us/step - loss: 0.4015 - acc: 0.8438 - val_loss: 0.4520 - val_acc: 0.8140\n",
      "Epoch 46/50\n",
      "9000/9000 [==============================] - 1s 75us/step - loss: 0.4013 - acc: 0.8439 - val_loss: 0.4507 - val_acc: 0.8180\n",
      "Epoch 47/50\n",
      "9000/9000 [==============================] - 1s 81us/step - loss: 0.4019 - acc: 0.8427 - val_loss: 0.4503 - val_acc: 0.8240\n",
      "Epoch 48/50\n",
      "9000/9000 [==============================] - 1s 76us/step - loss: 0.4030 - acc: 0.8450 - val_loss: 0.4491 - val_acc: 0.8260\n",
      "Epoch 49/50\n",
      "9000/9000 [==============================] - 1s 76us/step - loss: 0.4022 - acc: 0.8418 - val_loss: 0.4492 - val_acc: 0.8290\n",
      "Epoch 50/50\n",
      "9000/9000 [==============================] - 1s 74us/step - loss: 0.4007 - acc: 0.8438 - val_loss: 0.4536 - val_acc: 0.8190\n"
     ]
    }
   ],
   "source": [
    "history = model.fit(train_seq_x, train_y,\n",
    "                    epochs=50,\n",
    "                    batch_size=512,\n",
    "                    validation_data=(valid_seq_x, valid_y))"
   ]
  },
  {
   "cell_type": "code",
   "execution_count": 23,
   "metadata": {},
   "outputs": [
    {
     "data": {
      "image/png": "[encoded data removed]",
      "text/plain": [
       "<matplotlib.figure.Figure at 0x7f004c182400>"
      ]
     },
     "metadata": {},
     "output_type": "display_data"
    },
    {
     "data": {
      "image/png": "[encoded data removed]",
      "text/plain": [
       "<matplotlib.figure.Figure at 0x7f004c0e8d30>"
      ]
     },
     "metadata": {},
     "output_type": "display_data"
    }
   ],
   "source": [
    "import matplotlib.pyplot as plt\n",
    "\n",
    "acc = history.history['acc']\n",
    "val_acc = history.history['val_acc']\n",
    "loss = history.history['loss']\n",
    "val_loss = history.history['val_loss']\n",
    "\n",
    "epochs = range(1, len(acc) + 1)\n",
    "\n",
    "plt.plot(epochs, acc, 'bo', label='Training acc')\n",
    "plt.plot(epochs, val_acc, 'b', label='Validation acc')\n",
    "plt.title('Training and validation accuracy')\n",
    "plt.legend()\n",
    "\n",
    "plt.figure()\n",
    "\n",
    "plt.plot(epochs, loss, 'bo', label='Training loss')\n",
    "plt.plot(epochs, val_loss, 'b', label='Validation loss')\n",
    "plt.title('Training and validation loss')\n",
    "plt.legend()\n",
    "\n",
    "plt.show()"
   ]
  },
  {
   "cell_type": "code",
   "execution_count": 24,
   "metadata": {
    "collapsed": true
   },
   "outputs": [],
   "source": [
    "model.compile(optimizer='rmsprop',\n",
    "              loss='binary_crossentropy',\n",
    "              metrics=['acc'])"
   ]
  },
  {
   "cell_type": "code",
   "execution_count": 25,
   "metadata": {},
   "outputs": [
    {
     "name": "stdout",
     "output_type": "stream",
     "text": [
      "Train on 9000 samples, validate on 1000 samples\n",
      "Epoch 1/20\n",
      "9000/9000 [==============================] - 2s 248us/step - loss: 0.4830 - acc: 0.8109 - val_loss: 0.5330 - val_acc: 0.7860\n",
      "Epoch 2/20\n",
      "9000/9000 [==============================] - 3s 295us/step - loss: 0.4768 - acc: 0.8136 - val_loss: 0.5323 - val_acc: 0.7900\n",
      "Epoch 3/20\n",
      "9000/9000 [==============================] - 2s 234us/step - loss: 0.4715 - acc: 0.8149 - val_loss: 0.6213 - val_acc: 0.7460\n",
      "Epoch 4/20\n",
      "9000/9000 [==============================] - 3s 280us/step - loss: 0.4692 - acc: 0.8113 - val_loss: 0.4963 - val_acc: 0.7910\n",
      "Epoch 5/20\n",
      "9000/9000 [==============================] - 2s 248us/step - loss: 0.4679 - acc: 0.8090 - val_loss: 0.6434 - val_acc: 0.7070\n",
      "Epoch 6/20\n",
      "9000/9000 [==============================] - 2s 204us/step - loss: 0.4649 - acc: 0.8172 - val_loss: 0.5266 - val_acc: 0.7690\n",
      "Epoch 7/20\n",
      "9000/9000 [==============================] - 2s 230us/step - loss: 0.4614 - acc: 0.8118 - val_loss: 0.5401 - val_acc: 0.7820\n",
      "Epoch 8/20\n",
      "9000/9000 [==============================] - 2s 227us/step - loss: 0.4644 - acc: 0.8126 - val_loss: 0.5036 - val_acc: 0.8100\n",
      "Epoch 9/20\n",
      "9000/9000 [==============================] - 2s 234us/step - loss: 0.4581 - acc: 0.8178 - val_loss: 0.5523 - val_acc: 0.7500\n",
      "Epoch 10/20\n",
      "9000/9000 [==============================] - 2s 216us/step - loss: 0.4577 - acc: 0.8151 - val_loss: 0.6199 - val_acc: 0.7190\n",
      "Epoch 11/20\n",
      "9000/9000 [==============================] - 2s 220us/step - loss: 0.4545 - acc: 0.8136 - val_loss: 0.7968 - val_acc: 0.6310\n",
      "Epoch 12/20\n",
      "9000/9000 [==============================] - 3s 279us/step - loss: 0.4517 - acc: 0.8172 - val_loss: 0.6445 - val_acc: 0.7400\n",
      "Epoch 13/20\n",
      "9000/9000 [==============================] - 2s 252us/step - loss: 0.4537 - acc: 0.8190 - val_loss: 0.6065 - val_acc: 0.7560\n",
      "Epoch 14/20\n",
      "9000/9000 [==============================] - 2s 211us/step - loss: 0.4488 - acc: 0.8177 - val_loss: 0.5180 - val_acc: 0.7980\n",
      "Epoch 15/20\n",
      "9000/9000 [==============================] - 2s 212us/step - loss: 0.4487 - acc: 0.8193 - val_loss: 0.5666 - val_acc: 0.7530\n",
      "Epoch 16/20\n",
      "9000/9000 [==============================] - 2s 222us/step - loss: 0.4438 - acc: 0.8199 - val_loss: 0.5248 - val_acc: 0.7910\n",
      "Epoch 17/20\n",
      "9000/9000 [==============================] - 2s 210us/step - loss: 0.4480 - acc: 0.8203 - val_loss: 0.4662 - val_acc: 0.8120\n",
      "Epoch 18/20\n",
      "9000/9000 [==============================] - 2s 211us/step - loss: 0.4460 - acc: 0.8217 - val_loss: 0.4883 - val_acc: 0.8110\n",
      "Epoch 19/20\n",
      "9000/9000 [==============================] - 2s 218us/step - loss: 0.4405 - acc: 0.8261 - val_loss: 0.4566 - val_acc: 0.8180\n",
      "Epoch 20/20\n",
      "9000/9000 [==============================] - 2s 274us/step - loss: 0.4394 - acc: 0.8254 - val_loss: 0.4912 - val_acc: 0.8080\n"
     ]
    }
   ],
   "source": [
    "history = model.fit(train_seq_x, train_y,\n",
    "                    epochs=20,\n",
    "                    batch_size=32,\n",
    "                    validation_data=(valid_seq_x, valid_y))"
   ]
  },
  {
   "cell_type": "code",
   "execution_count": null,
   "metadata": {
    "collapsed": true
   },
   "outputs": [],
   "source": []
  }
 ],
 "metadata": {
  "kernelspec": {
   "display_name": "Python 3",
   "language": "python",
   "name": "python3"
  },
  "language_info": {
   "codemirror_mode": {
    "name": "ipython",
    "version": 3
   },
   "file_extension": ".py",
   "mimetype": "text/x-python",
   "name": "python",
   "nbconvert_exporter": "python",
   "pygments_lexer": "ipython3",
   "version": "3.5.2"
  }
 },
 "nbformat": 4,
 "nbformat_minor": 2
}
